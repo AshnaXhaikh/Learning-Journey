{
  "nbformat": 4,
  "nbformat_minor": 0,
  "metadata": {
    "colab": {
      "provenance": []
    },
    "kernelspec": {
      "name": "python3",
      "display_name": "Python 3"
    },
    "language_info": {
      "name": "python"
    }
  },
  "cells": [
    {
      "cell_type": "markdown",
      "source": [
        "previous we 've learnt:\n",
        "\n",
        "\n",
        "How **outer()** returns the **inner** function itself and **assign** that returned function to a variable and **call it late**.\n",
        "\n",
        "    outer() returning inner() is the foundation of decorators.\n",
        "    Makes and returns a function you can use later. (e.g. decorators)\n",
        "\n",
        "```python\n",
        "def outer():\n",
        "    def inner():\n",
        "        return \"Hello from inner!\"\n",
        "    return inner\n",
        "```"
      ],
      "metadata": {
        "id": "juttMmISE-14"
      }
    },
    {
      "cell_type": "code",
      "source": [
        "# 02_function_inside_function.py\n",
        "# Part 2 of 10: Defining a function inside another function in Python\n",
        "# This shows how inner functions can help encapsulate logic\n",
        "# GitHub: https://github.com/AshnaXhaikh/Decorators\n"
      ],
      "metadata": {
        "id": "vJEt4owVQmKf"
      },
      "execution_count": null,
      "outputs": []
    },
    {
      "cell_type": "markdown",
      "source": [
        "Now we will use inner function to add new behavior."
      ],
      "metadata": {
        "id": "dy1NEfUsQuZu"
      }
    },
    {
      "cell_type": "markdown",
      "source": [
        "# **Part 2: Functions inside Functions**\n",
        "\n",
        "> This part teaches **nesting functions** — defining one function inside another.\n",
        "\n",
        "> This is *foundational* for understanding **closures** and **decorators**.\n"
      ],
      "metadata": {
        "id": "7Vo6Qlyy_gQb"
      }
    },
    {
      "cell_type": "code",
      "source": [
        "# ✅ Outer function definition\n",
        "def outer():\n",
        "    print(\"Outer function is running.\")\n",
        "\n",
        "    # ✅ Inner function defined inside outer\n",
        "    def inner():\n",
        "        print(\"Inner function is running.\")\n",
        "\n",
        "    # ✅ Calling inner from outer\n",
        "    inner()\n",
        "\n",
        "\n",
        "# ✅ Call outer function\n",
        "outer()\n"
      ],
      "metadata": {
        "colab": {
          "base_uri": "https://localhost:8080/"
        },
        "id": "ObM5BA3W_sO9",
        "outputId": "4672aaf3-11e5-4c0c-cc2a-cd7378352804"
      },
      "execution_count": 10,
      "outputs": [
        {
          "output_type": "stream",
          "name": "stdout",
          "text": [
            "Outer function is running.\n",
            "Inner function is running.\n"
          ]
        }
      ]
    },
    {
      "cell_type": "markdown",
      "source": [
        "When you call `outer()`, it `immediately runs`:\n",
        "\n",
        "- Prints \"Outer function is running.\".\n",
        "\n",
        "- Defines `inner` and then **calls it immediately** inside outer(), printing \"Inner function is running.\n",
        "\".\n",
        "\n",
        "Just runs the inner logic **right away**—no returning, no later use.\n",
        "\n"
      ],
      "metadata": {
        "id": "Ii510q63HD7r"
      }
    },
    {
      "cell_type": "markdown",
      "source": [
        "# 2.1: Inner Function Using Outer Variable\n",
        "\n",
        ">The inner function can access variables from the outer function.\n",
        "\n",
        ">This is the start of understanding closures."
      ],
      "metadata": {
        "id": "vDuOUr6_TBx7"
      }
    },
    {
      "cell_type": "code",
      "source": [
        "def outer():\n",
        "    msg = \"hello from outer!\"\n",
        "\n",
        "    def inner():\n",
        "        print(msg) # inner can use outer's variable\n",
        "\n",
        "    inner()\n",
        "outer()"
      ],
      "metadata": {
        "colab": {
          "base_uri": "https://localhost:8080/"
        },
        "id": "5b4BhRyUTBwl",
        "outputId": "25cefa3f-2534-4018-90e8-deaa9e897583"
      },
      "execution_count": 12,
      "outputs": [
        {
          "output_type": "stream",
          "name": "stdout",
          "text": [
            "hello from outer!\n"
          ]
        }
      ]
    },
    {
      "cell_type": "markdown",
      "source": [
        "# Example 2.2: Inner Function Called Multiple Times\n",
        "\n",
        ">Inner function can be called multiple times inside outer.\n",
        "\n",
        ">Good for organizing repeated steps."
      ],
      "metadata": {
        "id": "MzS7DItATBvC"
      }
    },
    {
      "cell_type": "code",
      "source": [
        "def outer():\n",
        "    def inner():\n",
        "        print(\"Inner function runs!\")\n",
        "\n",
        "    print(\"Calling inner 1st time:\")\n",
        "    inner()\n",
        "\n",
        "    print()\n",
        "\n",
        "    print(\"Calling inner 2nd time:\")\n",
        "    inner()\n",
        "\n",
        "outer()"
      ],
      "metadata": {
        "colab": {
          "base_uri": "https://localhost:8080/"
        },
        "id": "6azAkXLJTBsk",
        "outputId": "4c19974e-c3a0-43f4-de8b-aa5a02b75f51"
      },
      "execution_count": 14,
      "outputs": [
        {
          "output_type": "stream",
          "name": "stdout",
          "text": [
            "Calling inner 1st time:\n",
            "Inner function runs!\n",
            "\n",
            "Calling inner 2nd time:\n",
            "Inner function runs!\n"
          ]
        }
      ]
    },
    {
      "cell_type": "markdown",
      "source": [
        "## Simpler Analogy\n",
        "🟢 Version 1 – returns inner function\n",
        "\n",
        "    Imagine a factory that builds a tool and gives it to you.\n",
        "    You can use the tool whenever you want.\n",
        "\n",
        "\n",
        "```python\n",
        "def outer():\n",
        "    def inner():\n",
        "        return \"I am inner\"\n",
        "    return inner\n",
        "```\n",
        "\n",
        "✅ It gives you the inner function to use later.\n",
        "✅ You get it and call it when you want.\n",
        "\n",
        "```python\n",
        "func = outer()\n",
        "print(func())   # Output: I am inner\n",
        "```\n",
        "\n",
        "\n",
        "\n",
        "🟢 Version 2 – runs inner function immediately\n",
        "\n",
        "    Imagine a machine that does the work immediately when you turn it on.\n",
        "    You don't keep anything for later.\n",
        "\n",
        "```python\n",
        "def outer():\n",
        "    print(\"outer function\")\n",
        "\n",
        "    def inner():\n",
        "        print(\"Inner function\")\n",
        "    \n",
        "    inner()\n",
        "\n",
        "outer()\n",
        "```\n",
        "✅ It does everything right away when you call outer().\n",
        "✅ Calls inner() automatically.\n",
        "\n",
        "```python\n",
        "outer function\n",
        "Inner function\n",
        "```"
      ],
      "metadata": {
        "id": "sQYAuAP0_sMx"
      }
    }
  ]
}