{
  "nbformat": 4,
  "nbformat_minor": 0,
  "metadata": {
    "colab": {
      "provenance": []
    },
    "kernelspec": {
      "name": "python3",
      "display_name": "Python 3"
    },
    "language_info": {
      "name": "python"
    }
  },
  "cells": [
    {
      "cell_type": "markdown",
      "source": [
        "# **What is a Decorator?**\n",
        "\n",
        "✅ A decorator is a function that modifies or enhances another function.\n",
        "\n",
        "✅ It wraps another function to add new behavior without changing its code.\n",
        "\n",
        "Think of it like **wrapping a gift**:\n",
        "\n",
        "    🎁 The original gift = your function\n",
        "    🎀 The wrapping = the decorator"
      ],
      "metadata": {
        "id": "1CrWhOHH2eov"
      }
    },
    {
      "cell_type": "markdown",
      "source": [
        "# **Functions Are Objects in Python**\n",
        "\n",
        "Before decorators, remember:\n",
        "\n",
        "    ✅ You can assign functions to variables.\n",
        "    ✅ You can pass them as arguments.\n",
        "    ✅ You can return them from other functions."
      ],
      "metadata": {
        "id": "OL1s7AZy3uto"
      }
    },
    {
      "cell_type": "markdown",
      "source": [
        "# we can **assign** them, **pass** them, and **return** then like variables!"
      ],
      "metadata": {
        "id": "aZi7GNBY4Ltp"
      }
    },
    {
      "cell_type": "markdown",
      "source": [
        "\n",
        "\n",
        "# `1. ``Assign`` functions to variables`\n",
        "\n"
      ],
      "metadata": {
        "id": "aZcIKSJ54gUp"
      }
    },
    {
      "cell_type": "code",
      "source": [
        "def greet():\n",
        "    return \"Hello!\""
      ],
      "metadata": {
        "id": "3OCn00f-3uF2"
      },
      "execution_count": 4,
      "outputs": []
    },
    {
      "cell_type": "code",
      "source": [
        "# Assign function to a variable\n",
        "say_hello = greet\n",
        "print(say_hello())"
      ],
      "metadata": {
        "colab": {
          "base_uri": "https://localhost:8080/"
        },
        "id": "OQ3GhI6W5huU",
        "outputId": "de7c2e3d-3c67-4cd3-b10e-2bb2bd3faae3"
      },
      "execution_count": 3,
      "outputs": [
        {
          "output_type": "stream",
          "name": "stdout",
          "text": [
            "Hello!\n"
          ]
        }
      ]
    },
    {
      "cell_type": "markdown",
      "source": [
        "#  ``2. `Pass` functions as arguments``"
      ],
      "metadata": {
        "id": "wBrIQXJo2VLu"
      }
    },
    {
      "cell_type": "code",
      "source": [
        "def greet():\n",
        "    return \"Hello!\""
      ],
      "metadata": {
        "id": "mGepHg8S5SDg"
      },
      "execution_count": 2,
      "outputs": []
    },
    {
      "cell_type": "code",
      "source": [
        "def call_func(func):\n",
        "    result = func()\n",
        "    print(result)\n",
        "\n",
        "# pass greet to another function\n",
        "call_func(greet)"
      ],
      "metadata": {
        "id": "ufeWlJsQ5eLD"
      },
      "execution_count": null,
      "outputs": []
    },
    {
      "cell_type": "markdown",
      "source": [
        "# ``3. `Return` functions from other functions ``"
      ],
      "metadata": {
        "id": "qCGcUp2Y54Zg"
      }
    },
    {
      "cell_type": "code",
      "source": [
        "def outer():\n",
        "    def inner():\n",
        "        return \"Hello from inner!\"\n",
        "    return inner"
      ],
      "metadata": {
        "id": "t6E0DBiL7hbL"
      },
      "execution_count": 2,
      "outputs": []
    },
    {
      "cell_type": "code",
      "source": [
        "# Get the returned function\n",
        "new_func = outer()\n",
        "print(new_func())"
      ],
      "metadata": {
        "colab": {
          "base_uri": "https://localhost:8080/"
        },
        "id": "b8F3ZeiL74e9",
        "outputId": "4e1540a1-9bbe-43d7-a2c8-03d50b0f0696"
      },
      "execution_count": 3,
      "outputs": [
        {
          "output_type": "stream",
          "name": "stdout",
          "text": [
            "Hello from inner!\n"
          ]
        }
      ]
    },
    {
      "cell_type": "code",
      "source": [],
      "metadata": {
        "id": "4Gsyc_UR8ARv"
      },
      "execution_count": null,
      "outputs": []
    }
  ]
}
