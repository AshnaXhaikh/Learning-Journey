{
  "cells": [
    {
      "cell_type": "markdown",
      "source": [
        "# Example 1: Add Pre/Post Messages\n",
        "A classic starter"
      ],
      "metadata": {
        "id": "hxhkx9Ayo-1L"
      }
    },
    {
      "cell_type": "code",
      "execution_count": null,
      "metadata": {
        "id": "QYiiSJt1L81M",
        "colab": {
          "base_uri": "https://localhost:8080/"
        },
        "outputId": "d9e53ad5-e64d-48c4-813d-126349908417"
      },
      "outputs": [
        {
          "output_type": "stream",
          "name": "stdout",
          "text": [
            "=== Before the function runs ===\n",
            "Hello!\n",
            "=== After the function runs ===\n"
          ]
        }
      ],
      "source": [
        "def simple_decorator(func):\n",
        "    def wrapper():\n",
        "        print(\"=== Before the function runs ===\")\n",
        "        func()\n",
        "        print(\"=== After the function runs ===\")\n",
        "    return wrapper\n",
        "\n",
        "def greet():\n",
        "    print(\"Hello!\")\n",
        "\n",
        "# Apply decorator manually\n",
        "decorated_greet = simple_decorator(greet)\n",
        "decorated_greet()\n"
      ]
    },
    {
      "cell_type": "markdown",
      "source": [
        "# ✅ Example 2: Logging the Function Name\n",
        "Log which function is being called.\n",
        "\n",
        "\n"
      ],
      "metadata": {
        "id": "jFiEdCceoc3H"
      }
    },
    {
      "cell_type": "code",
      "source": [
        "def log_decorator(func):\n",
        "    def wrapper(*args, **kwargs):\n",
        "        print(f\"Calling {func.__name__} with args: {args}, kwargs: {kwargs}\")\n",
        "        result = func(*args, **kwargs)\n",
        "        print(f\"{func.__name__} returned: {result}\")\n",
        "        return result\n",
        "    return wrapper\n"
      ],
      "metadata": {
        "id": "vp6GWC-Cocuz"
      },
      "execution_count": null,
      "outputs": []
    },
    {
      "cell_type": "code",
      "source": [
        "# function to pass in log_decorator\n",
        "def add(a, b):\n",
        "    return a + b\n",
        "\n",
        "logged = log_decorator(add)\n",
        "logged(1, 2)"
      ],
      "metadata": {
        "colab": {
          "base_uri": "https://localhost:8080/"
        },
        "id": "srP-3xLvocrU",
        "outputId": "b4358208-fe85-41f0-d0d3-9becc2cfe410"
      },
      "execution_count": null,
      "outputs": [
        {
          "output_type": "stream",
          "name": "stdout",
          "text": [
            "Calling add with args: (1, 2), kwargs: {}\n",
            "add returned: 3\n"
          ]
        },
        {
          "output_type": "execute_result",
          "data": {
            "text/plain": [
              "3"
            ]
          },
          "metadata": {},
          "execution_count": 3
        }
      ]
    },
    {
      "cell_type": "code",
      "source": [
        "def log_decorator(func):\n",
        "    def wrapper():\n",
        "        print(f\"Calling function: {func.__name__}\")\n",
        "        func()\n",
        "        print(f\"Finished calling: {func.__name__}\")\n",
        "    return wrapper\n",
        "\n",
        "def say_hi():\n",
        "    print(\"Hi there!\")\n",
        "\n",
        "logged_say_hi = log_decorator(say_hi)\n",
        "logged_say_hi()\n"
      ],
      "metadata": {
        "colab": {
          "base_uri": "https://localhost:8080/"
        },
        "id": "WVLPH7BUocom",
        "outputId": "059ff2f8-d9e6-4b62-da0c-fe523f6632eb"
      },
      "execution_count": null,
      "outputs": [
        {
          "output_type": "stream",
          "name": "stdout",
          "text": [
            "Calling function: say_hi\n",
            "Hi there!\n",
            "Finished calling: say_hi\n"
          ]
        }
      ]
    },
    {
      "cell_type": "markdown",
      "source": [
        "# ✅ Example 3: Repeat Function Twice"
      ],
      "metadata": {
        "id": "EKdXf43WqM_d"
      }
    },
    {
      "cell_type": "code",
      "source": [
        "def repeat_decorator(num_times):\n",
        "    def decorator(func):\n",
        "        def wrapper(*args, **kwargs):\n",
        "            for _ in range(num_times):\n",
        "                result = func(*args, **kwargs)\n",
        "            return result\n",
        "        return wrapper\n",
        "    return decorator\n",
        "# example usage\n",
        "@repeat_decorator(num_times=3)\n",
        "def greet(name):\n",
        "    print(f\"Hello, {name}!\")\n",
        "\n",
        "greet(\"Alice\")"
      ],
      "metadata": {
        "colab": {
          "base_uri": "https://localhost:8080/"
        },
        "id": "2YsQ3qTrocl1",
        "outputId": "5ac343bc-ca03-4600-8ec2-b4b6ba4f0d49"
      },
      "execution_count": null,
      "outputs": [
        {
          "output_type": "stream",
          "name": "stdout",
          "text": [
            "Hello, Alice!\n",
            "Hello, Alice!\n",
            "Hello, Alice!\n"
          ]
        }
      ]
    },
    {
      "cell_type": "code",
      "source": [
        "greet('Ashna')"
      ],
      "metadata": {
        "colab": {
          "base_uri": "https://localhost:8080/"
        },
        "id": "WyzwLUdpqfdq",
        "outputId": "1d07938e-a50c-43f2-c415-1fd73725b073"
      },
      "execution_count": null,
      "outputs": [
        {
          "output_type": "stream",
          "name": "stdout",
          "text": [
            "Hello, Ashna!\n",
            "Hello, Ashna!\n",
            "Hello, Ashna!\n"
          ]
        }
      ]
    },
    {
      "cell_type": "markdown",
      "source": [
        "# ✅ Example 4: Basic Timing Example\n",
        "Add code before and after to simulate timing (very basic)."
      ],
      "metadata": {
        "id": "BqTBtOgmriuS"
      }
    },
    {
      "cell_type": "code",
      "source": [
        "import time\n",
        "\n",
        "def timing_decorator(func):\n",
        "    def wrapper():\n",
        "        print(\"Starting timer...\")\n",
        "        start = time.time()\n",
        "        func()\n",
        "        end = time.time()\n",
        "        print(f\"Function took {end - start:.4f} seconds\")\n",
        "    return wrapper\n",
        "\n",
        "def slow_task():\n",
        "    time.sleep(2)\n",
        "    print(\"Task completed!\")\n",
        "\n",
        "def fast_task():\n",
        "    time.sleep(0.1)\n",
        "    print(\"Task completed!\")\n",
        "\n",
        "timed_slow_task = timing_decorator(slow_task)\n",
        "timed_fast_task = timing_decorator(fast_task)\n",
        "timed_slow_task(), timed_fast_task()"
      ],
      "metadata": {
        "colab": {
          "base_uri": "https://localhost:8080/"
        },
        "id": "jXHk9pHxq3ip",
        "outputId": "50592f0c-0f8d-4fff-d962-670ad9baa956"
      },
      "execution_count": null,
      "outputs": [
        {
          "output_type": "stream",
          "name": "stdout",
          "text": [
            "Starting timer...\n",
            "Task completed!\n",
            "Function took 2.0002 seconds\n",
            "Starting timer...\n",
            "Task completed!\n",
            "Function took 0.1001 seconds\n"
          ]
        },
        {
          "output_type": "execute_result",
          "data": {
            "text/plain": [
              "(None, None)"
            ]
          },
          "metadata": {},
          "execution_count": 23
        }
      ]
    },
    {
      "cell_type": "code",
      "source": [
        "Each is a basic structure showing the pattern:\n",
        "\n",
        "\n",
        "def decorator(func):\n",
        "    def wrapper():\n",
        "        # do something before\n",
        "        func()\n",
        "        # do something after\n",
        "    return wrapper\n",
        "# You can copy & run ter function with anything you want!"
      ],
      "metadata": {
        "id": "IL_qBsUvr7bD"
      },
      "execution_count": null,
      "outputs": []
    }
  ],
  "metadata": {
    "colab": {
      "provenance": []
    },
    "kernelspec": {
      "display_name": "Python 3",
      "name": "python3"
    },
    "language_info": {
      "name": "python"
    }
  },
  "nbformat": 4,
  "nbformat_minor": 0
}