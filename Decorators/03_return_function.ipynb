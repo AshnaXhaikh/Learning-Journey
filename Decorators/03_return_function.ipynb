{
  "nbformat": 4,
  "nbformat_minor": 0,
  "metadata": {
    "colab": {
      "provenance": []
    },
    "kernelspec": {
      "name": "python3",
      "display_name": "Python 3"
    },
    "language_info": {
      "name": "python"
    }
  },
  "cells": [
    {
      "cell_type": "markdown",
      "source": [
        "### *Part 3 of 10: Returning a function (Closure)*\n",
        "\n",
        "This demonstrates how the inner function remembers outer variables,even after the outer function has finished — forming a closure.\n"
      ],
      "metadata": {
        "id": "v3cr9wakd_Ns"
      }
    },
    {
      "cell_type": "markdown",
      "source": [
        "#  Example 1: Simple Closure"
      ],
      "metadata": {
        "id": "cjAMJFLChLyK"
      }
    },
    {
      "cell_type": "code",
      "source": [
        "\n",
        "def outer():\n",
        "    message = \"Hello from outer!\"\n",
        "\n",
        "    def inner():\n",
        "        print(message) # inner uses outer variable\n",
        "\n",
        "    return inner  # Return the inner function itself\n",
        "\n",
        "# Get the returned function (closure)\n",
        "closure_func = outer()\n",
        "closure_func()  # Output: Hello from outer!\n"
      ],
      "metadata": {
        "colab": {
          "base_uri": "https://localhost:8080/"
        },
        "id": "xUtEK8AcZjkE",
        "outputId": "14319e3b-348a-4f0a-d99c-b7304facdab1"
      },
      "execution_count": 19,
      "outputs": [
        {
          "output_type": "stream",
          "name": "stdout",
          "text": [
            "Hello from outer!\n"
          ]
        }
      ]
    },
    {
      "cell_type": "markdown",
      "source": [
        "# Example 2: Parameterized Closure"
      ],
      "metadata": {
        "id": "9xcKXlVshI4A"
      }
    },
    {
      "cell_type": "code",
      "source": [
        "\n",
        "def make_multiplier(x):\n",
        "    def multiplier(y):\n",
        "        return x * y   # x is remembered even after outer is done\n",
        "    return multiplier"
      ],
      "metadata": {
        "id": "gcudQ4XEZjmP"
      },
      "execution_count": 21,
      "outputs": []
    },
    {
      "cell_type": "code",
      "source": [
        "# Create a multiplier function with x=3\n",
        "times_three = make_multiplier(3)\n",
        "\n",
        "for i in range(1, 11):\n",
        "    print(f\"{i} x 3 = {times_three(i)}\")\n"
      ],
      "metadata": {
        "colab": {
          "base_uri": "https://localhost:8080/"
        },
        "id": "4jxc1pjTZjoj",
        "outputId": "2ecb16d2-b9b9-4131-e94e-427e67eb4691"
      },
      "execution_count": 23,
      "outputs": [
        {
          "output_type": "stream",
          "name": "stdout",
          "text": [
            "1 x 3 = 3\n",
            "2 x 3 = 6\n",
            "3 x 3 = 9\n",
            "4 x 3 = 12\n",
            "5 x 3 = 15\n",
            "6 x 3 = 18\n",
            "7 x 3 = 21\n",
            "8 x 3 = 24\n",
            "9 x 3 = 27\n",
            "10 x 3 = 30\n"
          ]
        }
      ]
    },
    {
      "cell_type": "code",
      "source": [
        "import random"
      ],
      "metadata": {
        "id": "Fs-kAcFWfLop"
      },
      "execution_count": 25,
      "outputs": []
    },
    {
      "cell_type": "code",
      "source": [
        "# Create another multiplier with x=10\n",
        "times_ten = make_multiplier(10)\n",
        "print(times_ten(2))  # Output: 20\n",
        "\n",
        "for i in range(1, 6):\n",
        "    print(times_ten(i))"
      ],
      "metadata": {
        "colab": {
          "base_uri": "https://localhost:8080/"
        },
        "id": "4taca6osZjsJ",
        "outputId": "7634d716-e269-43e3-bc10-70443ebbfc58"
      },
      "execution_count": 30,
      "outputs": [
        {
          "output_type": "stream",
          "name": "stdout",
          "text": [
            "20\n",
            "10\n",
            "20\n",
            "30\n",
            "40\n",
            "50\n"
          ]
        }
      ]
    },
    {
      "cell_type": "markdown",
      "source": [
        "# Example 3: Closure stores configuration"
      ],
      "metadata": {
        "id": "UQgqPPTBfrOg"
      }
    },
    {
      "cell_type": "code",
      "source": [
        "def greeting_generator(greeting):\n",
        "    def greeter(name):\n",
        "        print(f\"{greeting}, {name}!\")\n",
        "    return greeter"
      ],
      "metadata": {
        "id": "xGR2xws7fICm"
      },
      "execution_count": 32,
      "outputs": []
    },
    {
      "cell_type": "code",
      "source": [
        "say_salam = greeting_generator(\"Salam\")"
      ],
      "metadata": {
        "id": "is97lmEIgBDt"
      },
      "execution_count": 34,
      "outputs": []
    },
    {
      "cell_type": "code",
      "source": [
        "say_hello = greeting_generator(\"Hello\")"
      ],
      "metadata": {
        "id": "20MzCJHLgxDl"
      },
      "execution_count": 40,
      "outputs": []
    },
    {
      "cell_type": "code",
      "source": [
        "say_hello(\"My Friend\")"
      ],
      "metadata": {
        "colab": {
          "base_uri": "https://localhost:8080/"
        },
        "id": "v17nJ9mggQmK",
        "outputId": "63090948-c37f-418a-f045-2e69393828ea"
      },
      "execution_count": 41,
      "outputs": [
        {
          "output_type": "stream",
          "name": "stdout",
          "text": [
            "Hello, My Friend!\n"
          ]
        }
      ]
    },
    {
      "cell_type": "code",
      "source": [
        "say_salam(\"My brother\")"
      ],
      "metadata": {
        "colab": {
          "base_uri": "https://localhost:8080/"
        },
        "id": "kUDTkw_jggIe",
        "outputId": "7a16d2ec-ce7c-4d42-ca9b-b1aa3ce85704"
      },
      "execution_count": 42,
      "outputs": [
        {
          "output_type": "stream",
          "name": "stdout",
          "text": [
            "Salam, My brother!\n"
          ]
        }
      ]
    },
    {
      "cell_type": "code",
      "source": [],
      "metadata": {
        "id": "IToZ5b9jgs67"
      },
      "execution_count": null,
      "outputs": []
    }
  ]
}